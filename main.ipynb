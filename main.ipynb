{
 "cells": [
  {
   "cell_type": "code",
   "execution_count": 11,
   "metadata": {},
   "outputs": [],
   "source": [
    "# Dependencies\n",
    "import json\n",
    "import requests\n",
    "import pprint\n",
    "import scipy as sp\n",
    "import numpy as np\n",
    "import pandas as pd\n",
    "import matplotlib.pyplot as plt"
   ]
  },
  {
   "cell_type": "code",
   "execution_count": 4,
   "metadata": {},
   "outputs": [],
   "source": [
    "#Import data as pandas DF's\n",
    "Education_2016_df = pd.read_csv(\"Resources/2016_Education_Suburb.csv\")\n",
    "Income_2016_df = pd.read_csv(\"Resources/2016_Income_Postcode.csv\")\n",
    "VehicleCount_2016_df = pd.read_csv(\"Resources/2016_VehicleCount_Suburb.csv\")\n",
    "Education_2021_df = pd.read_csv(\"Resources/2021_Education_Suburb.csv\")\n",
    "Income_2021_df = pd.read_csv(\"Resources/2021_Income_Postcode.csv\")\n",
    "VehicleCount_2021_df = pd.read_csv(\"Resources/2021_VehicleCount_Suburb.csv\")\n",
    "\n",
    "#adjust name once year confirmed\n",
    "FuelType_2021_df = pd.read_csv(\"Resources/FuelType_Postcode.csv\")\n",
    "# = pd.read_csv(\"Resources/2016_FuelType_Postcode.csv\")"
   ]
  },
  {
   "cell_type": "code",
   "execution_count": null,
   "metadata": {},
   "outputs": [],
   "source": [
    "def create_scatter(df, y_variable, x_variable):\n",
    "\n",
    "    x_values = df[x_variable]\n",
    "    y_values = df[y_variable]\n",
    "    \n",
    "    #get plot axis range for annotation location.\n",
    "    ymin = df[y_variable].min()\n",
    "    xmin = df[x_variable].min()\n",
    "\n",
    "    ymax = df[y_variable].max()\n",
    "    xmax = df[x_variable].max()\n",
    "\n",
    "    (slope, intercept, rvalue, pvalue, stderr) = linregress(x_values, y_values)\n",
    "    regress_values = x_values * slope + intercept\n",
    "    line_eq = \"y = \" + str(round(slope,2)) + \"x + \" + str(round(intercept,2))\n",
    "\n",
    "    plt.scatter(\n",
    "        x_values,\n",
    "        y_values,\n",
    "        color = 'blue',\n",
    "        marker = 'o',\n",
    "        s = 50,\n",
    "        edgecolors = 'black')\n",
    "\n",
    "    plt.plot(x_values, regress_values, \"r-\", linewidth = 1)\n",
    "\n",
    "    #plt.annotate(line_eq, (xmin + 1, ymin + 5), fontsize =10, color = \"red\")\n",
    "\n",
    "    plt.xlabel('Latitude')\n",
    "    plt.ylabel(y_variable)\n",
    "    plt.suptitle(f\"The r-value is: {rvalue}\", fontsize = 8, x = 0.2, y = 0.95)\n",
    "    plt.annotate(line_eq, xy=(0.8, 1.05), fontsize =8, color = \"red\",\n",
    "             xycoords='axes fraction', textcoords='axes fraction')\n",
    "\n",
    "    plt.show()\n"
   ]
  },
  {
   "cell_type": "markdown",
   "metadata": {},
   "source": [
    "Merge DFS so that Education, income, vehicle count, fuel type are in 1 df on postcode handle different postcodes that arent present in all datasets"
   ]
  },
  {
   "cell_type": "code",
   "execution_count": 15,
   "metadata": {},
   "outputs": [],
   "source": []
  },
  {
   "cell_type": "markdown",
   "metadata": {},
   "source": [
    "Merge DFS so that Education, income, vehicle count, fuel type are in 1 df on postcode handle different postcodes that arent present in all datasets"
   ]
  },
  {
   "cell_type": "code",
   "execution_count": null,
   "metadata": {},
   "outputs": [],
   "source": []
  },
  {
   "attachments": {},
   "cell_type": "markdown",
   "metadata": {},
   "source": [
    "Once data is merged into a 2016 and a 2021 census df begin comparrison"
   ]
  },
  {
   "cell_type": "code",
   "execution_count": null,
   "metadata": {},
   "outputs": [],
   "source": []
  },
  {
   "attachments": {},
   "cell_type": "markdown",
   "metadata": {},
   "source": [
    "Bar charts for dfs Comparing the diffenent years together. probably worth also comparing the changes in income and education level"
   ]
  },
  {
   "cell_type": "code",
   "execution_count": null,
   "metadata": {},
   "outputs": [],
   "source": []
  },
  {
   "attachments": {},
   "cell_type": "markdown",
   "metadata": {},
   "source": [
    "Scatter showing income by fuel type? maybe 3 types so that we can see the relationships between income and diesel, income and ev etc."
   ]
  },
  {
   "cell_type": "code",
   "execution_count": null,
   "metadata": {},
   "outputs": [],
   "source": []
  }
 ],
 "metadata": {
  "kernelspec": {
   "display_name": "PythonData",
   "language": "python",
   "name": "python3"
  },
  "language_info": {
   "codemirror_mode": {
    "name": "ipython",
    "version": 3
   },
   "file_extension": ".py",
   "mimetype": "text/x-python",
   "name": "python",
   "nbconvert_exporter": "python",
   "pygments_lexer": "ipython3",
   "version": "3.7.7"
  },
  "orig_nbformat": 4,
  "vscode": {
   "interpreter": {
    "hash": "be61ac5c64e7a5d72ecc0d496f873d7e4314011c9b355ed11f25404feed7befb"
   }
  }
 },
 "nbformat": 4,
 "nbformat_minor": 2
}
