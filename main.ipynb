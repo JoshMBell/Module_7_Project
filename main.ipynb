{
 "cells": [
  {
   "cell_type": "code",
   "execution_count": 2,
   "metadata": {},
   "outputs": [],
   "source": [
    "# Dependencies\n",
    "import json\n",
    "import requests\n",
    "import pprint\n",
    "import scipy as sp\n",
    "import numpy as np\n",
    "import pandas as pd"
   ]
  },
  {
   "cell_type": "code",
   "execution_count": 4,
   "metadata": {},
   "outputs": [],
   "source": [
    "#Import data as pandas DF's\n",
    "Education_2016_df = pd.read_csv(\"Resources/2016_Education_Suburb.csv\")\n",
    "Income_2016_df = pd.read_csv(\"Resources/2016_Income_Postcode.csv\")\n",
    "VehicleCount_2016_df = pd.read_csv(\"Resources/2016_VehicleCount_Suburb.csv\")\n",
    "Education_2021_df = pd.read_csv(\"Resources/2021_Education_Suburb.csv\")\n",
    "Income_2021_df = pd.read_csv(\"Resources/2021_Income_Postcode.csv\")\n",
    "VehicleCount_2021_df = pd.read_csv(\"Resources/2021_VehicleCount_Suburb.csv\")\n",
    "\n",
    "#adjust name once year confirmed\n",
    "FuelType_2021_df = pd.read_csv(\"Resources/FuelType_Postcode.csv\")\n",
    "# = pd.read_csv(\"Resources/2016_FuelType_Postcode.csv\")"
   ]
  },
  {
   "cell_type": "code",
   "execution_count": null,
   "metadata": {},
   "outputs": [],
   "source": []
  },
  {
   "cell_type": "code",
   "execution_count": null,
   "metadata": {},
   "outputs": [],
   "source": []
  },
  {
   "cell_type": "code",
   "execution_count": null,
   "metadata": {},
   "outputs": [],
   "source": []
  }
 ],
 "metadata": {
  "kernelspec": {
   "display_name": "PythonData",
   "language": "python",
   "name": "python3"
  },
  "language_info": {
   "codemirror_mode": {
    "name": "ipython",
    "version": 3
   },
   "file_extension": ".py",
   "mimetype": "text/x-python",
   "name": "python",
   "nbconvert_exporter": "python",
   "pygments_lexer": "ipython3",
   "version": "3.7.7"
  },
  "orig_nbformat": 4,
  "vscode": {
   "interpreter": {
    "hash": "be61ac5c64e7a5d72ecc0d496f873d7e4314011c9b355ed11f25404feed7befb"
   }
  }
 },
 "nbformat": 4,
 "nbformat_minor": 2
}
