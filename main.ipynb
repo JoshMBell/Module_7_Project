{
 "cells": [
  {
   "cell_type": "code",
   "execution_count": null,
   "metadata": {},
   "outputs": [],
   "source": [
    "# Dependencies\n",
    "import json\n",
    "import requests\n",
    "import pprint\n",
    "from scipy.stats import linregress\n",
    "import numpy as np\n",
    "import pandas as pd\n",
    "import matplotlib.pyplot as plt\n"
   ]
  },
  {
   "cell_type": "code",
   "execution_count": null,
   "metadata": {},
   "outputs": [],
   "source": [
    "#Import data as pandas DF's\n",
    "#Education_2016_df = pd.read_csv(\"Resources/2016_Education_Postcode.csv\")\n",
    "#Income_2016_df = pd.read_csv(\"Resources/2016_Income_Postcode.csv\")\n",
    "#VehicleCount_2016_df = pd.read_csv(\"Resources/2016_VehicleCount_Postcode.csv\")\n",
    "Education_2021_df = pd.read_csv(\"Resources/2021_Education_Postcode.csv\")\n",
    "Income_2021_df = pd.read_csv(\"Resources/2021_Income_Postcode.csv\")\n",
    "VehicleCount_2021_df = pd.read_csv(\"Resources/2021_VehicleCount_Postcode.csv\")\n",
    "\n",
    "#adjust name once year confirmed\n",
    "FuelType_2021_df = pd.read_csv(\"Resources/FuelType_Postcode.csv\")\n",
    "#pd.read_csv(\"Resources/2016_FuelType_Postcode.csv\")"
   ]
  },
  {
   "cell_type": "code",
   "execution_count": null,
   "metadata": {},
   "outputs": [],
   "source": [
    "def create_scatter(df, y_variable, x_variable):\n",
    "\n",
    "    x_values = df[x_variable]\n",
    "    y_values = df[y_variable]\n",
    "    \n",
    "    #get plot axis range for annotation location.\n",
    "    ymin = df[y_variable].min()\n",
    "    xmin = df[x_variable].min()\n",
    "\n",
    "    ymax = df[y_variable].max()\n",
    "    xmax = df[x_variable].max()\n",
    "\n",
    "    (slope, intercept, rvalue, pvalue, stderr) = linregress(x_values, y_values)\n",
    "    regress_values = x_values * slope + intercept\n",
    "    line_eq = \"y = \" + str(round(slope,2)) + \"x + \" + str(round(intercept,2))\n",
    "\n",
    "    plt.scatter(\n",
    "        x_values,\n",
    "        y_values,\n",
    "        color = 'blue',\n",
    "        marker = 'o',\n",
    "        s = 50,\n",
    "        edgecolors = 'black')\n",
    "\n",
    "    plt.plot(x_values, regress_values, \"r-\", linewidth = 1)\n",
    "\n",
    "    #plt.annotate(line_eq, (xmin + 1, ymin + 5), fontsize =10, color = \"red\")\n",
    "\n",
    "    plt.xlabel(x_variable)\n",
    "    plt.ylabel(y_variable)\n",
    "    plt.suptitle(f\"The r-value is: {rvalue}\", fontsize = 8, x = 0.2, y = 0.95)\n",
    "    plt.annotate(line_eq, xy=(0.8, 1.05), fontsize =8, color = \"red\",\n",
    "            xycoords='axes fraction', textcoords='axes fraction')\n",
    "\n",
    "    plt.show()\n"
   ]
  },
  {
   "cell_type": "code",
   "execution_count": null,
   "metadata": {},
   "outputs": [],
   "source": [
    "def reshape_df(df):\n",
    "    return df.pivot_table(index = ['Vehicle_type', 'Postcode'], \n",
    "                          columns = 'Fuel_type', \n",
    "                          values = 'Count').reset_index().rename_axis(None, axis=1)"
   ]
  },
  {
   "cell_type": "code",
   "execution_count": null,
   "metadata": {},
   "outputs": [],
   "source": [
    "def clean_headers(df):\n",
    "    df.columns = df.columns.str.replace(\" \", \"_\")\n",
    "    return df"
   ]
  },
  {
   "attachments": {},
   "cell_type": "markdown",
   "metadata": {},
   "source": [
    "Clean Data"
   ]
  },
  {
   "cell_type": "code",
   "execution_count": null,
   "metadata": {},
   "outputs": [],
   "source": [
    "#Clean Headers\n",
    "#Education_2016_df = clean_headers(Education_2016_df)\n",
    "#Income_2016_df = clean_headers(Income_2016_df)\n",
    "#VehicleCount_2016_df = clean_headers(VehicleCount_2016_df)\n",
    "Education_2021_df = clean_headers(Education_2021_df)\n",
    "Income_2021_df = clean_headers(Income_2021_df)\n",
    "VehicleCount_2021_df = clean_headers(VehicleCount_2021_df)\n",
    "FuelType_2021_df = clean_headers(FuelType_2021_df)"
   ]
  },
  {
   "cell_type": "code",
   "execution_count": null,
   "metadata": {},
   "outputs": [],
   "source": [
    "FuelType_2021_df = reshape_df(FuelType_2021_df)\n",
    "#FuelType_2016_df = reshape_df(FuelType_2016_df)\n"
   ]
  },
  {
   "cell_type": "code",
   "execution_count": null,
   "metadata": {},
   "outputs": [],
   "source": [
    "FuelType_2021_df = FuelType_2021_df[FuelType_2021_df[\"Vehicle_type\"] != \"Total\"]\n",
    "FuelType_2021_df = FuelType_2021_df[FuelType_2021_df[\"Postcode\"] != \"Total\"]\n"
   ]
  },
  {
   "attachments": {},
   "cell_type": "markdown",
   "metadata": {},
   "source": [
    "Merge DFs so that Education, income, vehicle count, fuel type are in 1 df on postcode handle different postcodes that arent present in all datasets"
   ]
  },
  {
   "cell_type": "code",
   "execution_count": null,
   "metadata": {},
   "outputs": [],
   "source": [
    "#Combine the 2016 data into a single dataset.\n",
    "#data_education_income_2016 = pd.merge(Education_2016_df, Income_2016_df, how=\"inner\", on= [\"Postcode\", \"Postcode\"])\n",
    "#data_complete_2016 = pd.merge(data_education_income_2016, VehicleCount_2016_df ,how=\"inner\", on= [\"Postcode\", \"Postcode\"])\n",
    "#data_complete_2016 = data_complete_2016.drop(['State','Total_y', 'Total'], axis=1)\n",
    "\n",
    "#data_complete_2016.head()"
   ]
  },
  {
   "cell_type": "code",
   "execution_count": null,
   "metadata": {},
   "outputs": [],
   "source": [
    "Education_2021_df['Postcode'] = Education_2021_df['Postcode'].astype(int)\n",
    "data_education_income_2021 = pd.merge(Education_2021_df, Income_2021_df, how=\"inner\", on= [\"Postcode\", \"Postcode\"])\n",
    "data_complete_2021 = pd.merge(data_education_income_2021, VehicleCount_2021_df ,how=\"inner\", on= [\"Postcode\", \"Postcode\"])\n",
    "data_complete_2021 = data_complete_2021.drop(['State','Total_y', 'Total'], axis=1)"
   ]
  },
  {
   "attachments": {},
   "cell_type": "markdown",
   "metadata": {},
   "source": [
    "Remove data for \"Not Stated or Not Applicable\" and subtract from Total column"
   ]
  },
  {
   "cell_type": "code",
   "execution_count": null,
   "metadata": {},
   "outputs": [],
   "source": [
    "#Education_2016_df[\"Total\"] = Education_2016_df[\"Total\"] - (Education_2016_df[\"Not_stated\"] + Education_2016_df[\"Not_applicable\"])\n",
    "#Education_2016_df = Education_2016_df.drop(columns=[\"Not_stated\", \"Not_applicable\"])\n",
    "\n",
    "Education_2021_df[\"Total\"] = Education_2021_df[\"Total\"] - (Education_2021_df[\"Not_stated\"] + Education_2021_df[\"Not_applicable\"])\n",
    "Education_2021_df = Education_2021_df.drop(columns=[\"Not_stated\", \"Not_applicable\"])\n"
   ]
  },
  {
   "cell_type": "code",
   "execution_count": null,
   "metadata": {},
   "outputs": [],
   "source": [
    "#Income_2016_df[\"Total\"] = Income_2016_df[\"Total\"] - (Income_2016_df[\"Not_stated\"] + Income_2016_df[\"Not_applicable\"])\n",
    "#Income_2016_df = Income_2016_df.drop(columns=[\"Not_stated\", \"Not_applicable\"])\n",
    "\n",
    "Income_2021_df[\"Total\"] = Income_2021_df[\"Total\"] - (Income_2021_df[\"Not_stated\"] + Income_2021_df[\"Not_applicable\"])\n",
    "Income_2021_df = Income_2021_df.drop(columns=[\"Not_stated\", \"Not_applicable\"])"
   ]
  },
  {
   "cell_type": "code",
   "execution_count": null,
   "metadata": {},
   "outputs": [],
   "source": [
    "#Same for people with multiple cars?\n",
    "Education_2021_df"
   ]
  },
  {
   "cell_type": "code",
   "execution_count": null,
   "metadata": {},
   "outputs": [],
   "source": [
    "#Same for vehicle types, probably want to filter out\n",
    "#FuelType_2021_df = FuelType_2021_df[FuelType_2021_df['Vehicle_type'] == 'Passenger Vehicles']"
   ]
  },
  {
   "attachments": {},
   "cell_type": "markdown",
   "metadata": {},
   "source": [
    "Create DF's with normalised values (percentage of total)"
   ]
  },
  {
   "cell_type": "code",
   "execution_count": null,
   "metadata": {},
   "outputs": [],
   "source": [
    "Education_2021_Normalized = Education_2021_df.copy()\n",
    "for col in Education_2021_Normalized.columns[2:-1]:\n",
    "    Education_2021_Normalized[col] = Education_2021_Normalized[col] / Education_2021_Normalized[\"Total\"] * 100\n",
    "Education_2021_Normalized = Education_2021_Normalized.round(2)\n"
   ]
  },
  {
   "cell_type": "code",
   "execution_count": null,
   "metadata": {},
   "outputs": [],
   "source": [
    "FuelType_2021_Normalized = FuelType_2021_df.copy()\n",
    "for col in FuelType_2021_Normalized.columns[2:-1]:\n",
    "    FuelType_2021_Normalized[col] = FuelType_2021_Normalized[col] / FuelType_2021_Normalized[\"Total\"] * 100\n",
    "FuelType_2021_Normalized = FuelType_2021_Normalized.round(2)\n",
    "\n",
    "#if total = 0 then drop row?\n",
    "FuelType_2021_Normalized"
   ]
  },
  {
   "cell_type": "code",
   "execution_count": null,
   "metadata": {},
   "outputs": [],
   "source": [
    "Income_2021_Normalized = Income_2021_df.copy()\n",
    "for col in Income_2021_Normalized.columns[2:-1]:\n",
    "    Income_2021_Normalized[col] = Income_2021_Normalized[col] / Income_2021_Normalized[\"Total\"] * 100\n",
    "Income_2021_Normalized = Income_2021_Normalized.round(2)\n",
    "Income_2021_Normalized"
   ]
  },
  {
   "cell_type": "code",
   "execution_count": null,
   "metadata": {},
   "outputs": [],
   "source": [
    "#Calculate Education score for postcodes"
   ]
  },
  {
   "attachments": {},
   "cell_type": "markdown",
   "metadata": {},
   "source": [
    "Group into bigger bins for simplicity of plotting.\n",
    "Make new dfs with created bins"
   ]
  },
  {
   "cell_type": "code",
   "execution_count": null,
   "metadata": {},
   "outputs": [],
   "source": [
    "#Calculate an \"Income score\" for each \n",
    "def calculate_income_score(row):\n",
    "    values = row[2:-2].values\n",
    "    weights = [0,0,1,2,3,4,5,6,7,8,9,10,11,12,13,14]\n",
    "    weighted_sum = sum([value * weight for value, weight in zip(values, weights)])\n",
    "    \n",
    "    return weighted_sum\n",
    "\n",
    "Income_2021_Normalized['Income_Score'] = Income_2021_Normalized.apply(calculate_income_score, axis=1)\n",
    "Income_2021_Normalized"
   ]
  },
  {
   "cell_type": "code",
   "execution_count": null,
   "metadata": {},
   "outputs": [],
   "source": [
    "Education_2021_Scored = Education_2021_Normalized\n",
    "#Apply a multiplier based on education score to new columns\n",
    "Education_2021_Scored[\"Postgraduate_Degree_Score\"] = Education_2021_Scored[\"Postgraduate_Degree_Level\"].apply(lambda x: x*7)\n",
    "Education_2021_Scored[\"Graduate_Diploma_and_Graduate_Certificate_Score\"] = Education_2021_Scored[\"Graduate_Diploma_and_Graduate_Certificate_Level\"].apply(lambda x: x*6)\n",
    "Education_2021_Scored[\"Bachelor_Degree_Score\"] = Education_2021_Scored[\"Bachelor_Degree_Level\"].apply(lambda x: x*5)\n",
    "Education_2021_Scored[\"Advanced_Diploma_and_Diploma_Score\"] = Education_2021_Scored[\"Advanced_Diploma_and_Diploma_Level\"].apply(lambda x: x*4)\n",
    "Education_2021_Scored[\"Certificate_III_&_IV_Level_Score\"] = Education_2021_Scored[\"Certificate_III_&_IV_Level\"].apply(lambda x: x*3)\n",
    "Education_2021_Scored[\"Certificate_I_&_II_Level_Score\"] = Education_2021_Scored[\"Certificate_I_&_II_Level\"].apply(lambda x: x*2)\n",
    "Education_2021_Scored[\"Secondary_Education_-_Years_10_and_above_Score\"] = Education_2021_Scored[\"Secondary_Education_-_Years_10_and_above\"].apply(lambda x: x*2)\n",
    "Education_2021_Scored[\"Secondary_Education_-_Years_9_and_below_Score\"] = Education_2021_Scored[\"Secondary_Education_-_Years_9_and_below\"].apply(lambda x: x*1)\n",
    "#Drop unneeeded columns\n",
    "Education_2021_Scored = Education_2021_Scored.drop([\"Postgraduate_Degree_Level\", \"Graduate_Diploma_and_Graduate_Certificate_Level\", \"Bachelor_Degree_Level\", \"Advanced_Diploma_and_Diploma_Level\", \"Certificate_III_&_IV_Level\", \"Certificate_I_&_II_Level\", \"Secondary_Education_-_Years_10_and_above\", \"Secondary_Education_-_Years_9_and_below\"], axis=1)\n",
    "#Create a column in df with summed education scores\n",
    "Education_Score_List = [\"Postgraduate_Degree_Score\", \"Graduate_Diploma_and_Graduate_Certificate_Score\", \"Bachelor_Degree_Score\", \"Advanced_Diploma_and_Diploma_Score\", \"Certificate_III_&_IV_Level_Score\", \"Certificate_I_&_II_Level_Score\", \"Secondary_Education_-_Years_10_and_above_Score\", \"Secondary_Education_-_Years_9_and_below_Score\"]\n",
    "Education_2021_Scored[\"Education_Score\"] = Education_2021_Scored[Education_Score_List].sum(axis=1)\n"
   ]
  },
  {
   "attachments": {},
   "cell_type": "markdown",
   "metadata": {},
   "source": [
    "Merge Education and Income tables with fuel types, Then remove suburbs where no fuel types were recorded to disregard NaN values."
   ]
  },
  {
   "cell_type": "code",
   "execution_count": null,
   "metadata": {},
   "outputs": [],
   "source": [
    "Income_Fueltype_2021 = pd.merge(FuelType_2021_Normalized, Income_2021_Normalized, on='Postcode')\n",
    "#Merge Regional vs Metro here------------------- GJP\n",
    "Income_Fueltype_2021 = Income_Fueltype_2021[Income_Fueltype_2021['Total_x'] != 0]\n",
    "Income_Fueltype_2021"
   ]
  },
  {
   "cell_type": "code",
   "execution_count": null,
   "metadata": {},
   "outputs": [],
   "source": [
    "Education_Fueltype_2021 = pd.merge(FuelType_2021_Normalized, Education_2021_Scored, on = \"Postcode\")\n",
    "#GJP Merge regional and metro table here too, then filter can filter for metro etc. and adjust scatter plots accordingly\n",
    "Education_Fueltype_2021 = Education_Fueltype_2021[Education_Fueltype_2021['Total_x'] != 0]\n",
    "Education_Fueltype_2021\n"
   ]
  },
  {
   "cell_type": "code",
   "execution_count": null,
   "metadata": {},
   "outputs": [],
   "source": [
    "# read in and add electoraterating values for each postcode. Remove duplicates and keep the first non-null value for electoraterating\n",
    "# Outer Metro, Inner Metro and provincial are grouped for this purpose as \"Metro\", and Rural is left as Rural. Null values will be dropped for the purpose of plotting.\n",
    "\n",
    "Metro_Rural_Postcode = pd.read_csv('Resources/ElectorateRating_Postcode.csv')\n",
    "Metro_Rural_Postcode = Metro_Rural_Postcode.drop_duplicates().groupby('Postcode', as_index=False).first()\n",
    "Metro_Rural_Postcode"
   ]
  },
  {
   "cell_type": "code",
   "execution_count": null,
   "metadata": {},
   "outputs": [],
   "source": [
    "#Merge Metro/Rural values with Income and Education dfs\n",
    "Education_Fueltype_2021 = pd.merge(Education_Fueltype_2021, Metro_Rural_Postcode, on = \"Postcode\")\n",
    "Income_Fueltype_2021 = pd.merge(Income_Fueltype_2021, Metro_Rural_Postcode, on='Postcode')\n",
    "Education_Fueltype_2021"
   ]
  },
  {
   "cell_type": "code",
   "execution_count": null,
   "metadata": {},
   "outputs": [],
   "source": [
    "#Drop Rows where Metro_Rural is NaN\n",
    "Education_Fueltype_2021.dropna(subset=[\"Metro_Rural\"], inplace=True)\n",
    "Income_Fueltype_2021.dropna(subset=[\"Metro_Rural\"], inplace=True)"
   ]
  },
  {
   "cell_type": "code",
   "execution_count": null,
   "metadata": {},
   "outputs": [],
   "source": [
    "Income_Fueltype_2021.sort_values(\"Electric\", ascending = False)"
   ]
  },
  {
   "attachments": {},
   "cell_type": "markdown",
   "metadata": {},
   "source": [
    "Create Plots"
   ]
  },
  {
   "attachments": {},
   "cell_type": "markdown",
   "metadata": {},
   "source": [
    "All values Scatter"
   ]
  },
  {
   "cell_type": "code",
   "execution_count": null,
   "metadata": {},
   "outputs": [],
   "source": [
    "create_scatter(Income_Fueltype_2021, \"Electric\", \"Income_Score\")"
   ]
  },
  {
   "cell_type": "code",
   "execution_count": null,
   "metadata": {},
   "outputs": [],
   "source": [
    "create_scatter(Education_Fueltype_2021, \"Electric\", \"Education_Score\")"
   ]
  },
  {
   "attachments": {},
   "cell_type": "markdown",
   "metadata": {},
   "source": [
    "Scatter filtered for vehicles in metro areas"
   ]
  },
  {
   "cell_type": "code",
   "execution_count": null,
   "metadata": {},
   "outputs": [],
   "source": [
    "Income_Metro = Income_Fueltype_2021[Income_Fueltype_2021['Metro_Rural'] == 'Metro']\n",
    "Education_Metro = Education_Fueltype_2021[Education_Fueltype_2021['Metro_Rural'] == 'Metro']"
   ]
  },
  {
   "cell_type": "code",
   "execution_count": null,
   "metadata": {},
   "outputs": [],
   "source": [
    "create_scatter(Education_Metro.query(\"Total_x > 1000\"), \"Electric\", \"Education_Score\")\n",
    "create_scatter(Education_Metro.query(\"Total_x > 5000\"), \"Electric\", \"Education_Score\")"
   ]
  },
  {
   "cell_type": "code",
   "execution_count": null,
   "metadata": {},
   "outputs": [],
   "source": [
    "create_scatter(Income_Metro.query(\"Total_x > 1000\"), \"Electric\", \"Income_Score\")\n",
    "create_scatter(Income_Metro.query(\"Total_x > 5000\"), \"Electric\", \"Income_Score\")"
   ]
  },
  {
   "cell_type": "code",
   "execution_count": null,
   "metadata": {},
   "outputs": [],
   "source": []
  },
  {
   "cell_type": "code",
   "execution_count": null,
   "metadata": {},
   "outputs": [],
   "source": []
  },
  {
   "cell_type": "code",
   "execution_count": null,
   "metadata": {},
   "outputs": [],
   "source": []
  }
 ],
 "metadata": {
  "kernelspec": {
   "display_name": "PythonData",
   "language": "python",
   "name": "python3"
  },
  "language_info": {
   "codemirror_mode": {
    "name": "ipython",
    "version": 3
   },
   "file_extension": ".py",
   "mimetype": "text/x-python",
   "name": "python",
   "nbconvert_exporter": "python",
   "pygments_lexer": "ipython3",
   "version": "3.7.7"
  },
  "orig_nbformat": 4,
  "vscode": {
   "interpreter": {
    "hash": "be61ac5c64e7a5d72ecc0d496f873d7e4314011c9b355ed11f25404feed7befb"
   }
  }
 },
 "nbformat": 4,
 "nbformat_minor": 2
}
